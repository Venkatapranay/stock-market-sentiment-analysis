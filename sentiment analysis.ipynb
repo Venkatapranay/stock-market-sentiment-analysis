{
 "cells": [
  {
   "cell_type": "code",
   "execution_count": 1,
   "id": "f7568ee5",
   "metadata": {},
   "outputs": [],
   "source": [
    "import pandas as pd\n",
    "import numpy as np\n",
    "from sklearn.model_selection import train_test_split"
   ]
  },
  {
   "cell_type": "code",
   "execution_count": 2,
   "id": "b206ecd8",
   "metadata": {},
   "outputs": [],
   "source": [
    "df=pd.read_csv('stock_data.csv')"
   ]
  },
  {
   "cell_type": "code",
   "execution_count": 3,
   "id": "66d77251",
   "metadata": {},
   "outputs": [
    {
     "data": {
      "text/html": [
       "<div>\n",
       "<style scoped>\n",
       "    .dataframe tbody tr th:only-of-type {\n",
       "        vertical-align: middle;\n",
       "    }\n",
       "\n",
       "    .dataframe tbody tr th {\n",
       "        vertical-align: top;\n",
       "    }\n",
       "\n",
       "    .dataframe thead th {\n",
       "        text-align: right;\n",
       "    }\n",
       "</style>\n",
       "<table border=\"1\" class=\"dataframe\">\n",
       "  <thead>\n",
       "    <tr style=\"text-align: right;\">\n",
       "      <th></th>\n",
       "      <th>Text</th>\n",
       "      <th>Sentiment</th>\n",
       "    </tr>\n",
       "  </thead>\n",
       "  <tbody>\n",
       "    <tr>\n",
       "      <th>0</th>\n",
       "      <td>Kickers on my watchlist XIDE TIT SOQ PNK CPW B...</td>\n",
       "      <td>1</td>\n",
       "    </tr>\n",
       "    <tr>\n",
       "      <th>1</th>\n",
       "      <td>user: AAP MOVIE. 55% return for the FEA/GEED i...</td>\n",
       "      <td>1</td>\n",
       "    </tr>\n",
       "    <tr>\n",
       "      <th>2</th>\n",
       "      <td>user I'd be afraid to short AMZN - they are lo...</td>\n",
       "      <td>1</td>\n",
       "    </tr>\n",
       "    <tr>\n",
       "      <th>3</th>\n",
       "      <td>MNTA Over 12.00</td>\n",
       "      <td>1</td>\n",
       "    </tr>\n",
       "    <tr>\n",
       "      <th>4</th>\n",
       "      <td>OI  Over 21.37</td>\n",
       "      <td>1</td>\n",
       "    </tr>\n",
       "    <tr>\n",
       "      <th>...</th>\n",
       "      <td>...</td>\n",
       "      <td>...</td>\n",
       "    </tr>\n",
       "    <tr>\n",
       "      <th>5786</th>\n",
       "      <td>Industry body CII said #discoms are likely to ...</td>\n",
       "      <td>-1</td>\n",
       "    </tr>\n",
       "    <tr>\n",
       "      <th>5787</th>\n",
       "      <td>#Gold prices slip below Rs 46,000 as #investor...</td>\n",
       "      <td>-1</td>\n",
       "    </tr>\n",
       "    <tr>\n",
       "      <th>5788</th>\n",
       "      <td>Workers at Bajaj Auto have agreed to a 10% wag...</td>\n",
       "      <td>1</td>\n",
       "    </tr>\n",
       "    <tr>\n",
       "      <th>5789</th>\n",
       "      <td>#Sharemarket LIVE: Sensex off day’s high, up 6...</td>\n",
       "      <td>1</td>\n",
       "    </tr>\n",
       "    <tr>\n",
       "      <th>5790</th>\n",
       "      <td>#Sensex, #Nifty climb off day's highs, still u...</td>\n",
       "      <td>1</td>\n",
       "    </tr>\n",
       "  </tbody>\n",
       "</table>\n",
       "<p>5791 rows × 2 columns</p>\n",
       "</div>"
      ],
      "text/plain": [
       "                                                   Text  Sentiment\n",
       "0     Kickers on my watchlist XIDE TIT SOQ PNK CPW B...          1\n",
       "1     user: AAP MOVIE. 55% return for the FEA/GEED i...          1\n",
       "2     user I'd be afraid to short AMZN - they are lo...          1\n",
       "3                                     MNTA Over 12.00            1\n",
       "4                                      OI  Over 21.37            1\n",
       "...                                                 ...        ...\n",
       "5786  Industry body CII said #discoms are likely to ...         -1\n",
       "5787  #Gold prices slip below Rs 46,000 as #investor...         -1\n",
       "5788  Workers at Bajaj Auto have agreed to a 10% wag...          1\n",
       "5789  #Sharemarket LIVE: Sensex off day’s high, up 6...          1\n",
       "5790  #Sensex, #Nifty climb off day's highs, still u...          1\n",
       "\n",
       "[5791 rows x 2 columns]"
      ]
     },
     "execution_count": 3,
     "metadata": {},
     "output_type": "execute_result"
    }
   ],
   "source": [
    "df"
   ]
  },
  {
   "cell_type": "code",
   "execution_count": 4,
   "id": "19d68a2f",
   "metadata": {},
   "outputs": [],
   "source": [
    "x=df['Text']\n",
    "y=df['Sentiment']"
   ]
  },
  {
   "cell_type": "code",
   "execution_count": 5,
   "id": "b6bbd852",
   "metadata": {},
   "outputs": [
    {
     "data": {
      "text/plain": [
       "0       Kickers on my watchlist XIDE TIT SOQ PNK CPW B...\n",
       "1       user: AAP MOVIE. 55% return for the FEA/GEED i...\n",
       "2       user I'd be afraid to short AMZN - they are lo...\n",
       "3                                       MNTA Over 12.00  \n",
       "4                                        OI  Over 21.37  \n",
       "                              ...                        \n",
       "5786    Industry body CII said #discoms are likely to ...\n",
       "5787    #Gold prices slip below Rs 46,000 as #investor...\n",
       "5788    Workers at Bajaj Auto have agreed to a 10% wag...\n",
       "5789    #Sharemarket LIVE: Sensex off day’s high, up 6...\n",
       "5790    #Sensex, #Nifty climb off day's highs, still u...\n",
       "Name: Text, Length: 5791, dtype: object"
      ]
     },
     "execution_count": 5,
     "metadata": {},
     "output_type": "execute_result"
    }
   ],
   "source": [
    "x"
   ]
  },
  {
   "cell_type": "code",
   "execution_count": 6,
   "id": "9c5acf85",
   "metadata": {},
   "outputs": [
    {
     "data": {
      "text/plain": [
       "0       1\n",
       "1       1\n",
       "2       1\n",
       "3       1\n",
       "4       1\n",
       "       ..\n",
       "5786   -1\n",
       "5787   -1\n",
       "5788    1\n",
       "5789    1\n",
       "5790    1\n",
       "Name: Sentiment, Length: 5791, dtype: int64"
      ]
     },
     "execution_count": 6,
     "metadata": {},
     "output_type": "execute_result"
    }
   ],
   "source": [
    "y"
   ]
  },
  {
   "cell_type": "code",
   "execution_count": 7,
   "id": "8e5b22d9",
   "metadata": {},
   "outputs": [],
   "source": [
    "#data cleaning\n",
    "from nltk.corpus import stopwords"
   ]
  },
  {
   "cell_type": "code",
   "execution_count": 8,
   "id": "62acee33",
   "metadata": {},
   "outputs": [
    {
     "name": "stderr",
     "output_type": "stream",
     "text": [
      "[nltk_data] Downloading package stopwords to\n",
      "[nltk_data]     C:\\Users\\prana\\AppData\\Roaming\\nltk_data...\n",
      "[nltk_data]   Package stopwords is already up-to-date!\n"
     ]
    },
    {
     "data": {
      "text/plain": [
       "True"
      ]
     },
     "execution_count": 8,
     "metadata": {},
     "output_type": "execute_result"
    }
   ],
   "source": [
    "import nltk\n",
    "nltk.download('stopwords')"
   ]
  },
  {
   "cell_type": "code",
   "execution_count": 9,
   "id": "31a9d10e",
   "metadata": {},
   "outputs": [],
   "source": [
    "stopwords=set(stopwords.words(\"english\"))"
   ]
  },
  {
   "cell_type": "code",
   "execution_count": 10,
   "id": "b58985c5",
   "metadata": {},
   "outputs": [],
   "source": [
    "#vectorization\n",
    "from sklearn.feature_extraction.text import TfidfVectorizer"
   ]
  },
  {
   "cell_type": "code",
   "execution_count": 11,
   "id": "b1763fa6",
   "metadata": {},
   "outputs": [],
   "source": [
    "vectorizer=TfidfVectorizer(use_idf=True,lowercase=True,strip_accents='ascii',stop_words=stopwords)"
   ]
  },
  {
   "cell_type": "code",
   "execution_count": 12,
   "id": "8412414f",
   "metadata": {},
   "outputs": [
    {
     "data": {
      "text/plain": [
       "<5791x9805 sparse matrix of type '<class 'numpy.float64'>'\n",
       "\twith 55313 stored elements in Compressed Sparse Row format>"
      ]
     },
     "execution_count": 12,
     "metadata": {},
     "output_type": "execute_result"
    }
   ],
   "source": [
    "x_vector=vectorizer.fit_transform(x)\n",
    "x_vector"
   ]
  },
  {
   "cell_type": "code",
   "execution_count": 13,
   "id": "cda01167",
   "metadata": {},
   "outputs": [
    {
     "name": "stdout",
     "output_type": "stream",
     "text": [
      "(5791, 9805)\n",
      "(5791,)\n"
     ]
    }
   ],
   "source": [
    "print(x_vector.shape)\n",
    "print(y.shape)"
   ]
  },
  {
   "cell_type": "code",
   "execution_count": 14,
   "id": "046df368",
   "metadata": {},
   "outputs": [],
   "source": [
    "#split into train and test\n",
    "x_train,x_test,y_train,y_test=train_test_split(x_vector,y,test_size=0.2,random_state=42)"
   ]
  },
  {
   "cell_type": "code",
   "execution_count": 15,
   "id": "0d4a947e",
   "metadata": {},
   "outputs": [],
   "source": [
    "#multinomial naive bayes\n",
    "from sklearn.naive_bayes import MultinomialNB"
   ]
  },
  {
   "cell_type": "code",
   "execution_count": 16,
   "id": "9496c11e",
   "metadata": {},
   "outputs": [],
   "source": [
    "mn=MultinomialNB()"
   ]
  },
  {
   "cell_type": "code",
   "execution_count": 17,
   "id": "83e9a39b",
   "metadata": {},
   "outputs": [
    {
     "data": {
      "text/plain": [
       "MultinomialNB()"
      ]
     },
     "execution_count": 17,
     "metadata": {},
     "output_type": "execute_result"
    }
   ],
   "source": [
    "mn.fit(x_train,y_train)"
   ]
  },
  {
   "cell_type": "code",
   "execution_count": 18,
   "id": "47df4a2a",
   "metadata": {},
   "outputs": [
    {
     "data": {
      "text/plain": [
       "0.836590266313459"
      ]
     },
     "execution_count": 18,
     "metadata": {},
     "output_type": "execute_result"
    }
   ],
   "source": [
    "#accuracy for test dataset\n",
    "from sklearn.metrics import roc_auc_score\n",
    "roc_auc_score(y_test,mn.predict_proba(x_test)[:,1])"
   ]
  },
  {
   "cell_type": "code",
   "execution_count": 19,
   "id": "0ea238ae",
   "metadata": {},
   "outputs": [
    {
     "data": {
      "text/plain": [
       "0.9541456210832926"
      ]
     },
     "execution_count": 19,
     "metadata": {},
     "output_type": "execute_result"
    }
   ],
   "source": [
    "#accuracy for train dataset\n",
    "roc_auc_score(y_train,mn.predict_proba(x_train)[:,1])"
   ]
  },
  {
   "cell_type": "code",
   "execution_count": 20,
   "id": "6e256387",
   "metadata": {},
   "outputs": [],
   "source": [
    "#for any random user input\n",
    "def sentiment(data):\n",
    "    user_input=np.array([data])\n",
    "    user_input_vector=vectorizer.transform(user_input)\n",
    "    user_sentiment=mn.predict(user_input_vector)\n",
    "    #print(user_sentiment)\n",
    "    if user_sentiment == -1:\n",
    "        print(\"negative feedback\")\n",
    "    else:\n",
    "        print(\"positive feedback\")"
   ]
  },
  {
   "cell_type": "code",
   "execution_count": 31,
   "id": "1e6e3235",
   "metadata": {},
   "outputs": [
    {
     "name": "stdout",
     "output_type": "stream",
     "text": [
      "enter your feedback : market trends are looking good\n",
      "positive feedback\n"
     ]
    }
   ],
   "source": [
    "#read from user\n",
    "data=input('enter your feedback : ')\n",
    "sentiment(data)  "
   ]
  },
  {
   "cell_type": "code",
   "execution_count": 43,
   "id": "edc1cd0d",
   "metadata": {},
   "outputs": [
    {
     "name": "stdout",
     "output_type": "stream",
     "text": [
      "negative feedback\n"
     ]
    }
   ],
   "source": [
    "sentiment(\"unemployment should be reduced inorder to develop our country\")"
   ]
  },
  {
   "cell_type": "code",
   "execution_count": null,
   "id": "0319fcb5",
   "metadata": {},
   "outputs": [],
   "source": []
  }
 ],
 "metadata": {
  "kernelspec": {
   "display_name": "Python 3 (ipykernel)",
   "language": "python",
   "name": "python3"
  },
  "language_info": {
   "codemirror_mode": {
    "name": "ipython",
    "version": 3
   },
   "file_extension": ".py",
   "mimetype": "text/x-python",
   "name": "python",
   "nbconvert_exporter": "python",
   "pygments_lexer": "ipython3",
   "version": "3.8.13"
  }
 },
 "nbformat": 4,
 "nbformat_minor": 5
}
